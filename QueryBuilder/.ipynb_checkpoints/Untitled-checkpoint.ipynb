{
 "cells": [
  {
   "cell_type": "code",
   "execution_count": 34,
   "metadata": {},
   "outputs": [
    {
     "ename": "ModuleNotFoundError",
     "evalue": "No module named 'pyvo.auth'",
     "output_type": "error",
     "traceback": [
      "\u001b[0;31m---------------------------------------------------------------------------\u001b[0m",
      "\u001b[0;31mModuleNotFoundError\u001b[0m                       Traceback (most recent call last)",
      "\u001b[0;32m<ipython-input-34-4f91a51e8d22>\u001b[0m in \u001b[0;36m<module>\u001b[0;34m\u001b[0m\n\u001b[1;32m      5\u001b[0m \u001b[0;32mimport\u001b[0m \u001b[0mrequests\u001b[0m\u001b[0;34m\u001b[0m\u001b[0;34m\u001b[0m\u001b[0m\n\u001b[1;32m      6\u001b[0m \u001b[0;32mimport\u001b[0m \u001b[0mpyvo\u001b[0m\u001b[0;34m\u001b[0m\u001b[0;34m\u001b[0m\u001b[0m\n\u001b[0;32m----> 7\u001b[0;31m \u001b[0;32mfrom\u001b[0m \u001b[0mpyvo\u001b[0m\u001b[0;34m.\u001b[0m\u001b[0mauth\u001b[0m\u001b[0;34m.\u001b[0m\u001b[0mauthsession\u001b[0m \u001b[0;32mimport\u001b[0m \u001b[0mAuthSession\u001b[0m\u001b[0;34m\u001b[0m\u001b[0;34m\u001b[0m\u001b[0m\n\u001b[0m\u001b[1;32m      8\u001b[0m \u001b[0;34m\u001b[0m\u001b[0m\n\u001b[1;32m      9\u001b[0m \u001b[0;32mdef\u001b[0m \u001b[0mbutton_triggered\u001b[0m\u001b[0;34m(\u001b[0m\u001b[0mb\u001b[0m\u001b[0;34m)\u001b[0m\u001b[0;34m:\u001b[0m\u001b[0;34m\u001b[0m\u001b[0;34m\u001b[0m\u001b[0m\n",
      "\u001b[0;31mModuleNotFoundError\u001b[0m: No module named 'pyvo.auth'"
     ]
    }
   ],
   "source": [
    "import os\n",
    "from cadcutils import net\n",
    "import ipywidgets as widgets\n",
    "from IPython.display import Image, display, clear_output\n",
    "import requests\n",
    "import pyvo\n",
    "from pyvo.auth import authsession\n",
    "\n",
    "def button_triggered(b):\n",
    "    global accordion, username, password\n",
    "    if b.description==\"Login\":\n",
    "        try:\n",
    "\n",
    "            headers = {\n",
    "                \"Content-type\": \"application/x-www-form-urlencoded\",\n",
    "                \"Accept\": \"text/plain\"\n",
    "                }\n",
    "            data = urlencode([('username', username.value), ('password', password.value)])\n",
    "            login_url = 'https://ws-cadc.canfar.net/ac/login'\n",
    "            response = requests.post(login_url, data=data, headers=headers)\n",
    "            response.raise_for_status()\n",
    "            cookie = '\\\"' + response.text + '\\\"'\n",
    "\n",
    "            # Configure the session and run the query\n",
    "            auth = authsession.AuthSession()\n",
    "            auth.credentials.set_cookie('CADC_SSO', cookie)\n",
    "            \n",
    "            cookie_response = \\\n",
    "                login.post((CADC_LOGIN_CAPABILITY, None), data=data,\n",
    "                       headers=headers)\n",
    "            cookie_response.raise_for_status()\n",
    "            if cookie_response.text:\n",
    "                accordion.set_title(0,username.value)\n",
    "                accordion.children = [log_out_button]\n",
    "        except Exception:\n",
    "            print(\"Exceptions happend\")\n",
    "\n",
    "    else:\n",
    "        accordion.set_title(0,\"Login\")\n",
    "        accordion.children = [widgets.HBox([username, password, log_in_button])]\n",
    "        \n",
    "\n",
    "username = widgets.Text(description=\"username\")\n",
    "password = widgets.Text(description=\"password\")\n",
    "log_in_button = widgets.Button(description=\"Login\")\n",
    "log_out_button = widgets.Button(description=\"Logout\")\n",
    "log_in_button.on_click(button_triggered)\n",
    "log_out_button.on_click(button_triggered)\n",
    "accordion = widgets.Accordion(children=[widgets.HBox([username, password, log_in_button])])\n",
    "accordion.set_title(0, 'Login')\n",
    "accordion\n"
   ]
  },
  {
   "cell_type": "code",
   "execution_count": null,
   "metadata": {},
   "outputs": [],
   "source": []
  }
 ],
 "metadata": {
  "kernelspec": {
   "display_name": "Python 3",
   "language": "python",
   "name": "python3"
  },
  "language_info": {
   "codemirror_mode": {
    "name": "ipython",
    "version": 3
   },
   "file_extension": ".py",
   "mimetype": "text/x-python",
   "name": "python",
   "nbconvert_exporter": "python",
   "pygments_lexer": "ipython3",
   "version": "3.7.4"
  }
 },
 "nbformat": 4,
 "nbformat_minor": 2
}
