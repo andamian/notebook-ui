{
 "cells": [
  {
   "cell_type": "code",
   "execution_count": 6,
   "metadata": {},
   "outputs": [
    {
     "name": "stdout",
     "output_type": "stream",
     "text": [
      "not exist\n"
     ]
    }
   ],
   "source": [
    "## google chrome example 1\n",
    "from pycookiecheat import chrome_cookies\n",
    "import requests\n",
    "\n",
    "try:\n",
    "    url = 'https://ws-cadc.canfar.net/ac/login'\n",
    "    cookies = chrome_cookies(url)\n",
    "    requests.get(url, cookies=cookies)\n",
    "    print(cookies['CADC_SSO'])\n",
    "except Exception:\n",
    "    print(\"not exist\")\n"
   ]
  },
  {
   "cell_type": "code",
   "execution_count": 2,
   "metadata": {
    "scrolled": false
   },
   "outputs": [
    {
     "name": "stdout",
     "output_type": "stream",
     "text": [
      "not exist\n"
     ]
    }
   ],
   "source": [
    "## google chrome example 2\n",
    "## use browser_cookie3.firefox() for firefox \n",
    "import browser_cookie3\n",
    "import requests\n",
    "\n",
    "try:\n",
    "    cookiejar = browser_cookie3.chrome()\n",
    "    resp = requests.get('http://www.cadc-ccda.hia-iha.nrc-cnrc.gc.ca/en/', cookies=cookiejar)\n",
    "    if str(cookiejar).find(\"<Cookie CADC_SSO=\"):\n",
    "        start = str(cookiejar).index('<Cookie CADC_SSO=') + 17\n",
    "        end = str(cookiejar).index('for .cadc-ccda.hia-iha.nrc-cnrc.gc.ca/>')\n",
    "        print(str(cookiejar)[start:end])\n",
    "        print(str(cookiejar))\n",
    "except Exception:\n",
    "    print(\"not exist\")\n",
    "    "
   ]
  },
  {
   "cell_type": "code",
   "execution_count": null,
   "metadata": {},
   "outputs": [],
   "source": []
  },
  {
   "cell_type": "code",
   "execution_count": null,
   "metadata": {},
   "outputs": [],
   "source": []
  }
 ],
 "metadata": {
  "kernelspec": {
   "display_name": "Python 3",
   "language": "python",
   "name": "python3"
  },
  "language_info": {
   "codemirror_mode": {
    "name": "ipython",
    "version": 3
   },
   "file_extension": ".py",
   "mimetype": "text/x-python",
   "name": "python",
   "nbconvert_exporter": "python",
   "pygments_lexer": "ipython3",
   "version": "3.7.4"
  }
 },
 "nbformat": 4,
 "nbformat_minor": 2
}
