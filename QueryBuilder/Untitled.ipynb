{
 "cells": [
  {
   "cell_type": "code",
   "execution_count": 7,
   "metadata": {},
   "outputs": [
    {
     "data": {
      "application/vnd.jupyter.widget-view+json": {
       "model_id": "d060a65a349f4e6e937a2ee8a3b84c39",
       "version_major": 2,
       "version_minor": 0
      },
      "text/plain": [
       "Accordion(children=(HBox(children=(Text(value='', description='username'), Text(value='', description='passwor…"
      ]
     },
     "metadata": {},
     "output_type": "display_data"
    },
    {
     "name": "stdout",
     "output_type": "stream",
     "text": [
      "\"base64:ZXhwaXJ5dGltZT0xNTc2NzgxOTc2ODMyJnVzZXJJRD13ZW55dW4mWDUwMD1DTj13ZW55dW5fNTkyLE9VPUNBREMsTz1ISUEsQz1DQSZQT1NJWD0xODA4MzE2MTc3Jm51bWVyaWNJRD0wMDAwMDAwMC0wMDAwLTAwMDAtMDAwMC0wMDAwNmJjOGI3MTEmc2NvcGU9c3NvOmNhZGMrY2FuZmFyJmRvbWFpbj1jYW5mYXIucGh5cy51dmljLmNhJmRvbWFpbj1jYWRjLmhpYS5ucmMuZ2MuY2EmZG9tYWluPWNjZGEuaWhhLmNucmMuZ2MuY2EmZG9tYWluPWNhZGMtY2NkYS5oaWEtaWhhLm5yYy1jbnJjLmdjLmNhJmRvbWFpbj1jYW5mYXIubmV0JnNpZ25hdHVyZT1CZXcvdURKZ2grS0RZUi9GVHg2MDM3Q2l5ZldkUk13S2hleXhrWExEU1Vua0FsTDJhMlh5ZzJpVmd5UDlDczdJYnlZcm9qUUYya1JncmlpMUFjVXRmRkNUaWJXNlBjcUU1ZWpWbTZOTjh2RnlaNlFOLzRHK1ZjRVFFYkZ2cTY4TGNabXRFK1hlMjBTV21jbzJDN1J0NFNyQkx4dUlKMHZhSHVpUTUydnFZc2c9\"\n",
      "<Table masked=True length=5>\n",
      "table_index schema_name ...                     description                    \n",
      "   int32      bytes512  ...                       bytes512                     \n",
      "----------- ----------- ... ---------------------------------------------------\n",
      "          1  tap_schema ...             description of schemas in this tableset\n",
      "          2  tap_schema ...              description of tables in this tableset\n",
      "          3  tap_schema ...             description of columns in this tableset\n",
      "          4  tap_schema ...        description of foreign keys in this tableset\n",
      "          5  tap_schema ... description of foreign key columns in this tableset\n",
      "\"base64:ZXhwaXJ5dGltZT0xNTc2NzgyMjY0Mjg5JnVzZXJJRD13ZW55dW4mWDUwMD1DTj13ZW55dW5fNTkyLE9VPUNBREMsTz1ISUEsQz1DQSZQT1NJWD0xODA4MzE2MTc3Jm51bWVyaWNJRD0wMDAwMDAwMC0wMDAwLTAwMDAtMDAwMC0wMDAwNmJjOGI3MTEmc2NvcGU9c3NvOmNhZGMrY2FuZmFyJmRvbWFpbj1jYW5mYXIucGh5cy51dmljLmNhJmRvbWFpbj1jYWRjLmhpYS5ucmMuZ2MuY2EmZG9tYWluPWNjZGEuaWhhLmNucmMuZ2MuY2EmZG9tYWluPWNhZGMtY2NkYS5oaWEtaWhhLm5yYy1jbnJjLmdjLmNhJmRvbWFpbj1jYW5mYXIubmV0JnNpZ25hdHVyZT1uR2pxNmFUUGRCM3pFblZrYUJpUlZpOXlmdXI5S05xeElFSFc0YXpqMEVKTzBqcmZQUkF0Y3lPNG9FUzB4eVRkczFQdjU5THVxRlRLOTVOWUk4RUY3bjhJM1J6WXZBSWtIdER1cXZQL0k0SDVlWHE2a0pZK3RTK05NQnR3UzBmaDQzOXJFc1YraTdxUUV2NjdQcUdlNVRXa2FKOUpoaHNJMGlLc2ZlMUsvM3M9\"\n",
      "<Table masked=True length=5>\n",
      "table_index schema_name ...                     description                    \n",
      "   int32      bytes512  ...                       bytes512                     \n",
      "----------- ----------- ... ---------------------------------------------------\n",
      "          1  tap_schema ...             description of schemas in this tableset\n",
      "          2  tap_schema ...              description of tables in this tableset\n",
      "          3  tap_schema ...             description of columns in this tableset\n",
      "          4  tap_schema ...        description of foreign keys in this tableset\n",
      "          5  tap_schema ... description of foreign key columns in this tableset\n"
     ]
    }
   ],
   "source": [
    "import os\n",
    "from cadcutils import net   #\n",
    "from cadctap import version  #\n",
    "from six.moves.urllib.parse import urlparse   #\n",
    "\n",
    "from cadcutils import net\n",
    "import ipywidgets as widgets\n",
    "from IPython.display import Image, display, clear_output\n",
    "import requests\n",
    "import pyvo\n",
    "from pyvo.auth import authsession\n",
    "\n",
    "\n",
    "\n",
    "def button_triggered(b):\n",
    "    global accordion, username, password\n",
    "    if b.description==\"Login\":\n",
    "        try:\n",
    "\n",
    "            data = {\n",
    "            'username': username.value,\n",
    "            'password': password.value\n",
    "            }\n",
    "            \n",
    "            headers = {\n",
    "                'Content-Type': 'application/x-www-form-urlencoded',\n",
    "                'Accept': 'text/plain'\n",
    "            }\n",
    "            \n",
    "            login_url = 'https://ws-cadc.canfar.net/ac/login'\n",
    "            response = requests.post(login_url, data=data, headers=headers)\n",
    "            response.raise_for_status()\n",
    "            cookie = '\\\"' + response.text + '\\\"'\n",
    "            print(cookie)\n",
    "            # Configure the session and run the query\n",
    "            auth = authsession.AuthSession()\n",
    "            auth.credentials.set_cookie('CADC_SSO', cookie)\n",
    "            service = pyvo.dal.TAPService('https://www.cadc-ccda.hia-iha.nrc-cnrc.gc.ca/youcat', auth)\n",
    "            job = service.search('SELECT TOP 10 * from ml.Megaprime')\n",
    "            print(job)\n",
    "            \n",
    "            accordion.set_title(0,'User:'+ username.value)\n",
    "            accordion.children = [log_out_button]\n",
    "            \n",
    "            \n",
    "        except Exception:\n",
    "            print(\"Exceptions happend\")\n",
    "\n",
    "    else:\n",
    "        accordion.set_title(0,\"Login\")\n",
    "        accordion.children = [widgets.HBox([username, password, log_in_button])]\n",
    "        \n",
    "\n",
    "username = widgets.Text(description=\"username\")\n",
    "password = widgets.Text(description=\"password\")\n",
    "log_in_button = widgets.Button(description=\"Login\")\n",
    "log_out_button = widgets.Button(description=\"Logout\")\n",
    "log_in_button.on_click(button_triggered)\n",
    "log_out_button.on_click(button_triggered)\n",
    "accordion = widgets.Accordion(children=[widgets.HBox([username, password, log_in_button])])\n",
    "accordion.set_title(0, 'Login')\n",
    "accordion\n"
   ]
  },
  {
   "cell_type": "code",
   "execution_count": null,
   "metadata": {},
   "outputs": [],
   "source": []
  }
 ],
 "metadata": {
  "kernelspec": {
   "display_name": "Python 3",
   "language": "python",
   "name": "python3"
  },
  "language_info": {
   "codemirror_mode": {
    "name": "ipython",
    "version": 3
   },
   "file_extension": ".py",
   "mimetype": "text/x-python",
   "name": "python",
   "nbconvert_exporter": "python",
   "pygments_lexer": "ipython3",
   "version": "3.7.4"
  }
 },
 "nbformat": 4,
 "nbformat_minor": 2
}
