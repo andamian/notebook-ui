{
 "cells": [
  {
   "cell_type": "code",
   "execution_count": 10,
   "metadata": {},
   "outputs": [
    {
     "data": {
      "application/vnd.jupyter.widget-view+json": {
       "model_id": "40d32455dfe044bf847534f8f8c74877",
       "version_major": 2,
       "version_minor": 0
      },
      "text/plain": [
       "Accordion(children=(HBox(children=(Text(value='', description='username'), Text(value='', description='passwor…"
      ]
     },
     "metadata": {},
     "output_type": "display_data"
    },
    {
     "ename": "NameError",
     "evalue": "name 'subject' is not defined",
     "output_type": "error",
     "traceback": [
      "\u001b[0;31m---------------------------------------------------------------------------\u001b[0m",
      "\u001b[0;31mNameError\u001b[0m                                 Traceback (most recent call last)",
      "\u001b[0;32m<ipython-input-10-e3c7470319e8>\u001b[0m in \u001b[0;36mbutton_triggered\u001b[0;34m(b)\u001b[0m\n\u001b[1;32m     49\u001b[0m             \u001b[0mlogin_url\u001b[0m \u001b[0;34m=\u001b[0m \u001b[0mlogin\u001b[0m\u001b[0;34m.\u001b[0m\u001b[0m_get_url\u001b[0m\u001b[0;34m(\u001b[0m\u001b[0;34m(\u001b[0m\u001b[0mCADC_LOGIN_CAPABILITY\u001b[0m\u001b[0;34m,\u001b[0m \u001b[0;32mNone\u001b[0m\u001b[0;34m)\u001b[0m\u001b[0;34m)\u001b[0m\u001b[0;34m\u001b[0m\u001b[0;34m\u001b[0m\u001b[0m\n\u001b[1;32m     50\u001b[0m             \u001b[0mrealm\u001b[0m \u001b[0;34m=\u001b[0m \u001b[0murlparse\u001b[0m\u001b[0;34m(\u001b[0m\u001b[0mlogin_url\u001b[0m\u001b[0;34m)\u001b[0m\u001b[0;34m.\u001b[0m\u001b[0mhostname\u001b[0m\u001b[0;34m\u001b[0m\u001b[0;34m\u001b[0m\u001b[0m\n\u001b[0;32m---> 51\u001b[0;31m             \u001b[0mauth\u001b[0m \u001b[0;34m=\u001b[0m \u001b[0msubject\u001b[0m\u001b[0;34m.\u001b[0m\u001b[0mget_auth\u001b[0m\u001b[0;34m(\u001b[0m\u001b[0mrealm\u001b[0m\u001b[0;34m)\u001b[0m\u001b[0;34m\u001b[0m\u001b[0;34m\u001b[0m\u001b[0m\n\u001b[0m\u001b[1;32m     52\u001b[0m             \u001b[0;32mif\u001b[0m \u001b[0;32mnot\u001b[0m \u001b[0mauth\u001b[0m\u001b[0;34m:\u001b[0m\u001b[0;34m\u001b[0m\u001b[0;34m\u001b[0m\u001b[0m\n\u001b[1;32m     53\u001b[0m                 raise RuntimeError(\n",
      "\u001b[0;31mNameError\u001b[0m: name 'subject' is not defined"
     ]
    }
   ],
   "source": [
    "import os\n",
    "from cadcutils import net   #\n",
    "from cadctap import version  #\n",
    "from six.moves.urllib.parse import urlparse   #\n",
    "\n",
    "from cadcutils import net\n",
    "import ipywidgets as widgets\n",
    "from IPython.display import Image, display, clear_output\n",
    "import requests\n",
    "import pyvo\n",
    "from pyvo.auth import authsession\n",
    "\n",
    "\n",
    "CADC_LOGIN_CAPABILITY = 'ivo://ivoa.net/std/UMS#login-0.1'\n",
    "CADC_AC_SERVICE = 'ivo://cadc.nrc.ca/gms'\n",
    "cadctap_agent = 'cadc-tap-client/{}'.format(version.version)\n",
    "\n",
    "def button_triggered(b):\n",
    "    global accordion, username, password\n",
    "    if b.description==\"Login\":\n",
    "#        try:\n",
    "\n",
    "#            data = {\n",
    "#            'username': username.value,\n",
    "#            'password': password.value\n",
    "#            }\n",
    "#            headers = {\n",
    "#                'Content-Type': 'application/x-www-form-urlencoded',\n",
    "#                'Accept': 'text/plain'\n",
    "#            }\n",
    "#            login_url = 'https://ws-cadc.canfar.net/ac/login'\n",
    "#            response = requests.post(login_url, data=data, headers=headers)\n",
    "#            response.raise_for_status()\n",
    "#            cookie = '\\\"' + response.text + '\\\"'\n",
    "#            print(cookie)\n",
    "            # Configure the session and run the query\n",
    "#            auth = authsession.AuthSession()\n",
    "#            auth.credentials.set_cookie('CADC_SSO', cookie)\n",
    "\n",
    "#            accordion.set_title(0,'User:'+username.value)\n",
    "#            accordion.children = [log_out_button]\n",
    "            \n",
    "#        except Exception:\n",
    "#            print(\"Exceptions happend\")\n",
    "\n",
    "            login = net.BaseWsClient(CADC_AC_SERVICE, net.Subject(),\n",
    "                                     cadctap_agent,\n",
    "                                     retry=True, host=None)\n",
    "            login_url = login._get_url((CADC_LOGIN_CAPABILITY, None))\n",
    "            realm = urlparse(login_url).hostname\n",
    "            auth = subject.get_auth(realm)\n",
    "            if not auth:\n",
    "                raise RuntimeError(\n",
    "                    'No user/password for realm {} in .netrc'.format(realm))\n",
    "\n",
    "    else:\n",
    "        accordion.set_title(0,\"Login\")\n",
    "        accordion.children = [widgets.HBox([username, password, log_in_button])]\n",
    "        \n",
    "\n",
    "username = widgets.Text(description=\"username\")\n",
    "password = widgets.Text(description=\"password\")\n",
    "log_in_button = widgets.Button(description=\"Login\")\n",
    "log_out_button = widgets.Button(description=\"Logout\")\n",
    "log_in_button.on_click(button_triggered)\n",
    "log_out_button.on_click(button_triggered)\n",
    "accordion = widgets.Accordion(children=[widgets.HBox([username, password, log_in_button])])\n",
    "accordion.set_title(0, 'Login')\n",
    "accordion\n"
   ]
  },
  {
   "cell_type": "code",
   "execution_count": null,
   "metadata": {},
   "outputs": [],
   "source": []
  }
 ],
 "metadata": {
  "kernelspec": {
   "display_name": "Python 3",
   "language": "python",
   "name": "python3"
  },
  "language_info": {
   "codemirror_mode": {
    "name": "ipython",
    "version": 3
   },
   "file_extension": ".py",
   "mimetype": "text/x-python",
   "name": "python",
   "nbconvert_exporter": "python",
   "pygments_lexer": "ipython3",
   "version": "3.7.4"
  }
 },
 "nbformat": 4,
 "nbformat_minor": 2
}
