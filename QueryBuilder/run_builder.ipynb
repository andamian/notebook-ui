{
 "cells": [
  {
   "cell_type": "code",
   "execution_count": 1,
   "metadata": {},
   "outputs": [
    {
     "data": {
      "application/vnd.jupyter.widget-view+json": {
       "model_id": "9595613fca004f3292363dca3c48cc52",
       "version_major": 2,
       "version_minor": 0
      },
      "text/plain": [
       "Tab(children=(Output(layout=Layout(border='2px solid green', width='100%')), Output(layout=Layout(width='100%'…"
      ]
     },
     "metadata": {},
     "output_type": "display_data"
    }
   ],
   "source": [
    "import os\n",
    "import sys\n",
    "import ipywidgets as widgets\n",
    "import pyvo\n",
    "from IPython.display import Image, display, clear_output\n",
    "import pandas as pd\n",
    "import glue_jupyter as gj\n",
    "from astropy.io.votable import from_table, writeto\n",
    "import base64\n",
    "from IPython.core.display import HTML\n",
    "sys.path.insert(0, os.path.abspath('./'))\n",
    "from final_core import QueryBuilder\n",
    "\n",
    "query_out = widgets.Output(layout=widgets.Layout(width='100%'))\n",
    "query_out.layout.border = \"2px solid green\"\n",
    "table_out = widgets.Output(layout=widgets.Layout(width='100%'))\n",
    "graph_out = widgets.Output(layout=widgets.Layout(width='100%')) \n",
    "query_builder = QueryBuilder()\n",
    "\n",
    "\n",
    "\n",
    "def graph(df):\n",
    "    with graph_out:\n",
    "        clear_output()\n",
    "        app = gj.jglue()\n",
    "        out_data = app.load_data('output_file.csv')\n",
    "        columns = df.columns\n",
    "        scatter_viewer = app.scatter2d(x= columns[0],\n",
    "                                       y= columns[1],\n",
    "                                       data=out_data,\n",
    "                                       show=True)\n",
    "        display(scatter_viewer)\n",
    "        \n",
    "\n",
    "def Search_button_result(b):\n",
    "    with table_out:\n",
    "        clear_output()\n",
    "        b.disabled = True\n",
    "        result_table = query_builder.search_query()\n",
    "        df = result_table.to_table().to_pandas()\n",
    "        ####### add the download button here  #########\n",
    "        ### the button allows user to download the table to csv file ######\n",
    "        b64 = base64.b64encode(df.to_string().encode())\n",
    "        payload = b64.decode()\n",
    "        html = f\"\"\"<a download=\"testfile\" href=\"data:text;base64, {payload}\" target=\"_blank\">Download File</a>\"\"\"\n",
    "        display(HTML(html))\n",
    "        display(df)\n",
    "        df.to_csv('output_file.csv', index=False)\n",
    "        graph(df)\n",
    "        b.disabled = False\n",
    "        \n",
    "\n",
    "button = widgets.Button(\n",
    "            description=\"SEARCH\",\n",
    "            layout=widgets.Layout(flex='1 1 auto',\n",
    "                                  width='auto'),\n",
    "            style=widgets.ButtonStyle(button_color='#C8F7FD'))\n",
    "\n",
    "button.on_click(Search_button_result)\n",
    "\n",
    "\n",
    "query_builder.list_test.append(button)\n",
    "\n",
    "with query_out:\n",
    "    query_builder.Start_query()\n",
    "\n",
    "###########################################\n",
    "tab = widgets.Tab()\n",
    "tab_contents = ['Query', 'Result', 'Plot']\n",
    "children = [query_out, table_out, graph_out]\n",
    "tab.children = children\n",
    "for i in range(len(children)):\n",
    "    tab.set_title(i, tab_contents[i])\n",
    "\n",
    "display(tab)\n",
    "\n",
    "\n"
   ]
  },
  {
   "cell_type": "code",
   "execution_count": null,
   "metadata": {},
   "outputs": [],
   "source": []
  },
  {
   "cell_type": "code",
   "execution_count": null,
   "metadata": {},
   "outputs": [],
   "source": []
  },
  {
   "cell_type": "code",
   "execution_count": null,
   "metadata": {},
   "outputs": [],
   "source": []
  }
 ],
 "metadata": {
  "kernelspec": {
   "display_name": "Python 3",
   "language": "python",
   "name": "python3"
  },
  "language_info": {
   "codemirror_mode": {
    "name": "ipython",
    "version": 3
   },
   "file_extension": ".py",
   "mimetype": "text/x-python",
   "name": "python",
   "nbconvert_exporter": "python",
   "pygments_lexer": "ipython3",
   "version": "3.7.4"
  }
 },
 "nbformat": 4,
 "nbformat_minor": 2
}
